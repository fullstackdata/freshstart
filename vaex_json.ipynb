pip install s3fs
import vaex
df = vaex.from_json("s3://ncar-na-cordex/catalogs/aws-na-cordex.json")

# ValueError: Mixing dicts with non-Series may lead to ambiguous ordering.

!cat /home/ubuntu/newTempLoc/vaex_example.json
df = vaex.from_json("/home/ubuntu/newTempLoc/vaex_example.json")
df 

